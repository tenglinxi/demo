{
 "cells": [
  {
   "cell_type": "markdown",
   "metadata": {},
   "source": [
    "Wild Bootstrap Testing\n",
    "1. Calculate the test statistic $V_{n}$.\n",
    "2. Obtain wild bootstrap samples $\\{B_{n}\\}_{i=1}^{D}$ and estimate the 1 − α empirical quantile of these samples.\n",
    "3. If $V_{n}$ exceeds the quantile, reject."
   ]
  },
  {
   "cell_type": "code",
   "execution_count": 47,
   "metadata": {},
   "outputs": [],
   "source": [
    "from scipy.spatial.distance import squareform, pdist\n",
    "import numpy as np\n",
    "\n",
    "scaling=2.0"
   ]
  },
  {
   "cell_type": "code",
   "execution_count": 48,
   "metadata": {},
   "outputs": [],
   "source": [
    "def grad_log_correleted(x):\n",
    "    sigmaInv = np.linalg.inv(sigma)\n",
    "    return - np.dot(sigmaInv.T + sigmaInv, x) / 2.0"
   ]
  },
  {
   "cell_type": "code",
   "execution_count": 49,
   "metadata": {},
   "outputs": [],
   "source": [
    "def Agrad_multiple(X):\n",
    "    return np.array([grad_log_correleted(x) for x in X])"
   ]
  },
  {
   "cell_type": "code",
   "execution_count": 50,
   "metadata": {},
   "outputs": [],
   "source": [
    "def kernel_matrix(X):\n",
    "\n",
    "    assert X.shape[0] > X.shape[1]\n",
    "    sq_dists = squareform(pdist(X, 'sqeuclidean'))\n",
    "    K = np.exp(-sq_dists/ scaling)\n",
    "    return K"
   ]
  },
  {
   "cell_type": "code",
   "execution_count": 51,
   "metadata": {},
   "outputs": [],
   "source": [
    "def gradient_k_wrt_x( X, K, dim):\n",
    "\n",
    "    X_dim = X[:, dim]\n",
    "    assert X_dim.ndim == 1\n",
    "\n",
    "    differences = X_dim.reshape(len(X_dim), 1) - X_dim.reshape(1, len(X_dim))\n",
    "\n",
    "    return -2.0 / scaling * K * differences"
   ]
  },
  {
   "cell_type": "code",
   "execution_count": 52,
   "metadata": {},
   "outputs": [],
   "source": [
    "def gradient_k_wrt_y( X, K, dim):\n",
    "    return -gradient_k_wrt_x(X, K, dim)"
   ]
  },
  {
   "cell_type": "code",
   "execution_count": 53,
   "metadata": {},
   "outputs": [],
   "source": [
    "def second_derivative_k(X, K, dim):\n",
    "    X_dim = X[:, dim]\n",
    "    assert X_dim.ndim == 1\n",
    "\n",
    "    differences = X_dim.reshape(len(X_dim), 1) - X_dim.reshape(1, len(X_dim))\n",
    "\n",
    "    sq_differences = differences ** 2\n",
    "\n",
    "    return 2.0 * K * (scaling - 2 * sq_differences) / scaling ** 2"
   ]
  },
  {
   "cell_type": "code",
   "execution_count": 54,
   "metadata": {},
   "outputs": [],
   "source": [
    "def get_statistic_multiple_dim(samples, dim):\n",
    "    num_samples = len(samples)\n",
    "\n",
    "    log_pdf_gradients = Agrad_multiple(samples)\n",
    "    log_pdf_gradients = log_pdf_gradients[:, dim]\n",
    "    K = kernel_matrix(samples)\n",
    "    gradient_k_x = gradient_k_wrt_x(samples, K, dim)\n",
    "    gradient_k_y = gradient_k_wrt_y(samples, K, dim)\n",
    "    second_derivative = second_derivative_k(samples, K, dim)\n",
    "\n",
    "    # use broadcasting to mimic the element wise looped call\n",
    "    pairwise_log_gradients = log_pdf_gradients.reshape(num_samples, 1) \\\n",
    "                             * log_pdf_gradients.reshape(1, num_samples)\n",
    "    A = pairwise_log_gradients * K\n",
    "\n",
    "    B = gradient_k_x * log_pdf_gradients\n",
    "    C = (gradient_k_y.T * log_pdf_gradients).T\n",
    "    D = second_derivative\n",
    "\n",
    "    V_statistic = A + B + C + D\n",
    "\n",
    "    stat = num_samples * np.mean(V_statistic)\n",
    "    return V_statistic, stat"
   ]
  },
  {
   "cell_type": "code",
   "execution_count": 55,
   "metadata": {},
   "outputs": [],
   "source": [
    "def get_V_statistic(samples):\n",
    "    num_samples = samples.shape[0]\n",
    "    dims = samples.shape[1]\n",
    "    U = np.zeros((num_samples, num_samples))\n",
    "    for dim in range(dims):\n",
    "        U2, _ = get_statistic_multiple_dim(samples, dim)\n",
    "        U += U2\n",
    "    return U"
   ]
  },
  {
   "cell_type": "code",
   "execution_count": 56,
   "metadata": {},
   "outputs": [],
   "source": [
    "def simulatepm(N, p_change):\n",
    "    '''\n",
    "\n",
    "    :param N:\n",
    "    :param p_change:\n",
    "    :return:\n",
    "    '''\n",
    "    X = np.zeros(N) - 1\n",
    "    change_sign = np.random.rand(N) < p_change\n",
    "    for i in range(N):\n",
    "        if change_sign[i]:\n",
    "            X[i] = -X[i - 1]\n",
    "        else:\n",
    "            X[i] = X[i - 1]\n",
    "    return X"
   ]
  },
  {
   "cell_type": "code",
   "execution_count": 57,
   "metadata": {},
   "outputs": [],
   "source": [
    "temp_bootsraped_stats = np.zeros(600)\n",
    "\n",
    "def compute_pvalues_for_processes( U_matrix, chane_prob, num_bootstrapped_stats=100):\n",
    "    N = U_matrix.shape[0]\n",
    "    bootsraped_stats = np.zeros(num_bootstrapped_stats)\n",
    "\n",
    "    for proc in range(num_bootstrapped_stats):\n",
    "            # W = np.sign(orsetinW[:,proc])\n",
    "        W = simulatepm(N, chane_prob)\n",
    "        WW = np.outer(W, W)\n",
    "\n",
    "        st = np.mean(U_matrix * WW)\n",
    "\n",
    "        bootsraped_stats[proc] = N * st\n",
    "            #print(N * st)\n",
    "\n",
    "    stat = N * np.mean(U_matrix)\n",
    "\n",
    "    print(bootsraped_stats.shape)\n",
    "    temp_bootsraped_stats = np.sort(bootsraped_stats)\n",
    "    return float(np.sum(bootsraped_stats > stat)) / num_bootstrapped_stats,temp_bootsraped_stats"
   ]
  },
  {
   "cell_type": "code",
   "execution_count": 58,
   "metadata": {},
   "outputs": [],
   "source": [
    "def is_from_null( alpha, samples, chane_prob):\n",
    "    dims = samples.shape[1]\n",
    "    boots = 10 * int(dims / alpha)\n",
    "    num_samples = samples.shape[0]\n",
    "    U = np.zeros((num_samples, num_samples))\n",
    "    for dim in range(dims):\n",
    "        U2, _ = get_statistic_multiple_dim(samples, dim)\n",
    "        U += U2\n",
    "\n",
    "    p,bootsraped_stats_sorted = compute_pvalues_for_processes(U, chane_prob, boots)\n",
    "    return p,bootsraped_stats_sorted"
   ]
  },
  {
   "cell_type": "code",
   "execution_count": 59,
   "metadata": {
    "scrolled": true
   },
   "outputs": [
    {
     "name": "stdout",
     "output_type": "stream",
     "text": [
      "(600,)\n",
      "p_val 0.24\n",
      "0.24 144\n",
      "阈值为 5.311366764451844\n"
     ]
    }
   ],
   "source": [
    "sigma = np.array([[1, 0.2, 0.1], [0.2, 1, 0.4], [0.1, 0.4, 1]])\n",
    "\n",
    "X = np.random.multivariate_normal(mean=[0, 0, 0], cov=sigma, size=200)\n",
    "V_statistic = get_V_statistic(X)\n",
    "\n",
    "p_value,bootsraped_stats_sorted = is_from_null(0.05, X, 0.1)\n",
    "print(\"p_val\",p_value)\n",
    "\n",
    "threshold = bootsraped_stats_sorted[int(p_value*600)]\n",
    "print(p_value,int(p_value*600))\n",
    "print('阈值为',threshold)"
   ]
  },
  {
   "cell_type": "code",
   "execution_count": 60,
   "metadata": {},
   "outputs": [],
   "source": [
    "temp_bootsraped_stats = np.zeros(600)\n",
    "\n",
    "def compute_pvalues_for_processes_1( U_matrix, chane_prob, threshold,num_bootstrapped_stats=100):\n",
    "    N = U_matrix.shape[0]\n",
    "    bootsraped_stats = np.zeros(num_bootstrapped_stats)\n",
    "\n",
    "    for proc in range(num_bootstrapped_stats):\n",
    "            # W = np.sign(orsetinW[:,proc])\n",
    "        W = simulatepm(N, chane_prob)\n",
    "        WW = np.outer(W, W)\n",
    "\n",
    "        st = np.mean(U_matrix * WW)\n",
    "\n",
    "        bootsraped_stats[proc] = N * st\n",
    "            #print(N * st)\n",
    "\n",
    "    stat = N * np.mean(U_matrix)\n",
    "\n",
    "\n",
    "    temp_bootsraped_stats = np.sort(bootsraped_stats)\n",
    "\n",
    "    return np.sum(bootsraped_stats > threshold)"
   ]
  },
  {
   "cell_type": "code",
   "execution_count": 61,
   "metadata": {},
   "outputs": [],
   "source": [
    "def test( alpha, samples, chane_prob,threshold):\n",
    "    dims = samples.shape[1]\n",
    "    boots = 10 * int(dims / alpha)\n",
    "    num_samples = samples.shape[0]\n",
    "    U = np.zeros((num_samples, num_samples))\n",
    "    for dim in range(dims):\n",
    "        U2, _ = get_statistic_multiple_dim(samples, dim)\n",
    "        U += U2\n",
    "\n",
    "    ans1 = compute_pvalues_for_processes_1(U, chane_prob,threshold,boots)\n",
    "    return ans1"
   ]
  },
  {
   "cell_type": "code",
   "execution_count": 62,
   "metadata": {},
   "outputs": [
    {
     "name": "stdout",
     "output_type": "stream",
     "text": [
      "0.76\n"
     ]
    }
   ],
   "source": [
    "ans = 0\n",
    "\n",
    "Y = np.random.multivariate_normal([0, 0, 0], sigma, 200)\n",
    "\n",
    "ans1 = test(0.05, Y, 0.1,threshold)\n",
    "print(ans1/600)"
   ]
  },
  {
   "cell_type": "code",
   "execution_count": null,
   "metadata": {},
   "outputs": [],
   "source": []
  },
  {
   "cell_type": "code",
   "execution_count": null,
   "metadata": {},
   "outputs": [],
   "source": []
  },
  {
   "cell_type": "code",
   "execution_count": null,
   "metadata": {},
   "outputs": [],
   "source": []
  }
 ],
 "metadata": {
  "kernelspec": {
   "display_name": "pytorch",
   "language": "python",
   "name": "pytorch"
  },
  "language_info": {
   "codemirror_mode": {
    "name": "ipython",
    "version": 3
   },
   "file_extension": ".py",
   "mimetype": "text/x-python",
   "name": "python",
   "nbconvert_exporter": "python",
   "pygments_lexer": "ipython3",
   "version": "3.7.9"
  }
 },
 "nbformat": 4,
 "nbformat_minor": 2
}
