{
 "cells": [
  {
   "cell_type": "code",
   "execution_count": 1,
   "metadata": {},
   "outputs": [
    {
     "name": "stdout",
     "output_type": "stream",
     "text": [
      "MMD正确拒绝率为： 0.96\n"
     ]
    }
   ],
   "source": [
    "\n",
    "import numpy as np\n",
    "from sklearn.metrics.pairwise import rbf_kernel\n",
    "\n",
    "\n",
    "\n",
    "num = 100\n",
    "m = num\n",
    "n = num\n",
    "\n",
    "\n",
    "ans = []\n",
    "experiment_times = 100  #实验次数\n",
    "\n",
    "for i in range(experiment_times):\n",
    "    X = np.random.normal(loc=0,scale=1.0,size=m).reshape(-1,1)\n",
    "    Y = np.random.normal(loc=0,scale=1.0,size=n).reshape(-1,1)\n",
    "\n",
    "    MMD1 = np.sum(rbf_kernel(X,X))/(m*m)\n",
    "    MMD2 = np.sum(rbf_kernel(X,Y))/(m*n)\n",
    "    MMD3 = np.sum(rbf_kernel(Y,Y))/(n*n)\n",
    "\n",
    "    #P{拒绝H0/H0为真}=a\n",
    "    MMD = np.sqrt(MMD1 - 2*MMD2 +MMD3)\n",
    "    ans.append(MMD)\n",
    "\n",
    "\n",
    "ans = sorted(ans)\n",
    "\n",
    "threshold = ans[int(num*0.05)]\n",
    "\n",
    "reject = 0\n",
    "for i in range(experiment_times):\n",
    "    X = np.random.normal(loc=0,scale=1.0,size=m).reshape(-1,1)\n",
    "    Y = np.random.normal(loc=0,scale=1.0,size=n).reshape(-1,1)\n",
    "\n",
    "    MMD1 = np.sum(rbf_kernel(X,X))/(m*m)\n",
    "    MMD2 = np.sum(rbf_kernel(X,Y))/(m*n)\n",
    "    MMD3 = np.sum(rbf_kernel(Y,Y))/(n*n)\n",
    "\n",
    "    MMD = np.sqrt(MMD1 - 2 * MMD2 + MMD3)\n",
    "    if MMD > threshold:\n",
    "        reject = reject + 1\n",
    "\n",
    "print(\"MMD正确拒绝率为：\",reject/experiment_times)"
   ]
  }
 ],
 "metadata": {
  "kernelspec": {
   "display_name": "Python 3",
   "language": "python",
   "name": "python3"
  },
  "language_info": {
   "codemirror_mode": {
    "name": "ipython",
    "version": 3
   },
   "file_extension": ".py",
   "mimetype": "text/x-python",
   "name": "python",
   "nbconvert_exporter": "python",
   "pygments_lexer": "ipython3",
   "version": "3.7.0"
  }
 },
 "nbformat": 4,
 "nbformat_minor": 2
}
