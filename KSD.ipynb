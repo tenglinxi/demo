{
 "cells": [
  {
   "cell_type": "code",
   "execution_count": null,
   "metadata": {},
   "outputs": [],
   "source": [
    "import torch\n",
    "from torch.autograd import Variable\n",
    "from scipy.stats import multivariate_normal\n",
    "from sklearn.metrics.pairwise import rbf_kernel\n",
    "import numpy as np"
   ]
  },
  {
   "cell_type": "markdown",
   "metadata": {},
   "source": [
    "# 化简后的 $\\frac{\\nabla_{x}p(x)}{p(x)}$ 。其中，p(x)是标准正态分布。"
   ]
  },
  {
   "cell_type": "code",
   "execution_count": 1,
   "metadata": {},
   "outputs": [],
   "source": [
    "def grad_log_density(x, mu, sigma,  z_optim=False):\n",
    "    dtype = torch.FloatTensor\n",
    "\n",
    "    mu = Variable(torch.Tensor(mu).type(dtype), requires_grad=z_optim)\n",
    "    sigma = Variable(torch.Tensor(sigma).type(dtype), requires_grad=False)\n",
    "    x = Variable(torch.Tensor(x).type(dtype), requires_grad=True)\n",
    "\n",
    "    y = (-1 / 2) * torch.dot(x - mu, torch.inverse(sigma).mv(x - mu))\n",
    "\n",
    "    y.backward()\n",
    "\n",
    "    if z_optim:\n",
    "        return dict(x_grad=x.grad, mu_grad=mu.grad)\n",
    "\n",
    "    return x.grad.data.numpy()"
   ]
  },
  {
   "cell_type": "code",
   "execution_count": null,
   "metadata": {},
   "outputs": [],
   "source": [
    "def compute_sq(i):\n",
    "    return grad_log_density(x[i],mu,sigma)"
   ]
  },
  {
   "cell_type": "markdown",
   "metadata": {},
   "source": [
    "# 计算 $\\nabla_{x^{'}}k(x,x^{'})$"
   ]
  },
  {
   "cell_type": "code",
   "execution_count": null,
   "metadata": {},
   "outputs": [],
   "source": [
    "def grad_k_j(i, j):\n",
    "    dtype = torch.FloatTensor\n",
    "    i = Variable(torch.Tensor(i).type(dtype), requires_grad=True)\n",
    "    j = Variable(torch.Tensor(j).type(dtype), requires_grad=True)\n",
    "\n",
    "    y = torch.exp(-1 / 2 * torch.square(torch.norm(i - j)))\n",
    "\n",
    "    y.backward()\n",
    "    return j.grad.data.numpy()"
   ]
  },
  {
   "cell_type": "markdown",
   "metadata": {},
   "source": [
    "# 计算 $\\nabla_{x}k(x,x^{'})$"
   ]
  },
  {
   "cell_type": "code",
   "execution_count": null,
   "metadata": {},
   "outputs": [],
   "source": [
    "def grad_k_i(i,j):\n",
    "    dtype = torch.FloatTensor\n",
    "    i = Variable(torch.Tensor(i).type(dtype), requires_grad=True)\n",
    "    j = Variable(torch.Tensor(j).type(dtype), requires_grad=True)\n",
    "\n",
    "    y = torch.exp(-1/2*torch.square(torch.norm(i-j)))\n",
    "\n",
    "    y.backward()\n",
    "\n",
    "    return i.grad.data.numpy()"
   ]
  },
  {
   "cell_type": "markdown",
   "metadata": {},
   "source": [
    "# 计算 $\\nabla_{x,x^{'}}k(x,x^{'})$ 猜的不知道对不对"
   ]
  },
  {
   "cell_type": "code",
   "execution_count": null,
   "metadata": {},
   "outputs": [],
   "source": [
    "def grad_k_ij(i,j):\n",
    "    dtype = torch.FloatTensor\n",
    "    i = Variable(torch.Tensor(i).type(dtype), requires_grad=True)\n",
    "    j = Variable(torch.Tensor(j).type(dtype), requires_grad=True)\n",
    "\n",
    "    y = torch.exp(-1/2*torch.square(torch.norm(i-j)))\n",
    "\n",
    "    y.backward()\n",
    "\n",
    "    ans = i.grad.data.numpy().reshape(-1,1).dot(j.grad.data.numpy().reshape(1,-1))\n",
    "\n",
    "    return np.trace(ans)"
   ]
  },
  {
   "cell_type": "markdown",
   "metadata": {},
   "source": [
    "# 生成数据"
   ]
  },
  {
   "cell_type": "code",
   "execution_count": null,
   "metadata": {},
   "outputs": [],
   "source": [
    "N = 20\n",
    "mu=np.array([1, 0., 0.])\n",
    "sigma=np.eye(3)\n",
    "p_data = multivariate_normal.rvs(mean=mu, cov=sigma, size=N)\n",
    "\n",
    "\n",
    "x = p_data"
   ]
  },
  {
   "cell_type": "markdown",
   "metadata": {},
   "source": [
    "# 计算$u_{q}(x,x^{'})$"
   ]
  },
  {
   "cell_type": "code",
   "execution_count": null,
   "metadata": {},
   "outputs": [],
   "source": [
    "def compute_uq(i,j):\n",
    "    uq = np.array(0)\n",
    "\n",
    "    sq_i = compute_sq(i).reshape(-1,1)\n",
    "    sq_j = compute_sq(j).reshape(-1,1)\n",
    "    k_ij = rbf_kernel(x[i].reshape(-1,1),x[j].reshape(-1,1),gamma=1.0)\n",
    "\n",
    "    uq = uq + sq_i.T.dot(k_ij).dot(sq_i)\n",
    "    uq = uq + sq_i.T.dot(grad_k_j(x[i],x[j]))\n",
    "\n",
    "    uq = uq + grad_k_i(x[i],x[j]).T.dot(sq_j)\n",
    "\n",
    "    uq = uq + grad_k_ij(x[i],x[j])\n",
    "    return uq"
   ]
  },
  {
   "cell_type": "markdown",
   "metadata": {},
   "source": [
    "# 计算 $\\hat{S}_{u}(p,q)$"
   ]
  },
  {
   "cell_type": "code",
   "execution_count": null,
   "metadata": {},
   "outputs": [],
   "source": [
    "Supq = np.array(0)\n",
    "for i in range(N):\n",
    "    for j in range(N):\n",
    "        if i==j:\n",
    "            continue\n",
    "        Supq = Supq + compute_uq(i,j)\n",
    "print('Supq',Supq/(N*(N-1)))"
   ]
  },
  {
   "cell_type": "markdown",
   "metadata": {},
   "source": [
    "# 计算 $\\hat{S}^{*}_{u}(p,q)$   不太明白"
   ]
  },
  {
   "cell_type": "code",
   "execution_count": null,
   "metadata": {},
   "outputs": [],
   "source": [
    "num = N\n",
    "temp = [1/num]*num\n",
    "a = np.random.multinomial(n=num, pvals=temp, size = 1).reshape(-1,1)\n",
    "\n",
    "w = []\n",
    "\n",
    "for i in range(a.shape[0]):\n",
    "    for j in range(a[i][0]):\n",
    "        w.append(np.random.normal())\n",
    "\n",
    "w = np.array(w)\n",
    "w = (w-1/num).reshape(-1,1)\n",
    "\n",
    "\n",
    "a = np.random.multinomial(n=num, pvals=temp, size = 1).reshape(-1,1)\n",
    "\n",
    "\n",
    "\n",
    "S_xing_upq = 0\n",
    "for i in range(N):\n",
    "    for j in range(N):\n",
    "        if i == j:\n",
    "            continue\n",
    "        S_xing_upq = S_xing_upq + w[i]*w[j]*compute_uq(i,j)\n",
    "\n",
    "print(\"S_xing_upq\",S_xing_upq)\n"
   ]
  }
 ],
 "metadata": {
  "kernelspec": {
   "display_name": "pytorch",
   "language": "python",
   "name": "pytorch"
  },
  "language_info": {
   "codemirror_mode": {
    "name": "ipython",
    "version": 3
   },
   "file_extension": ".py",
   "mimetype": "text/x-python",
   "name": "python",
   "nbconvert_exporter": "python",
   "pygments_lexer": "ipython3",
   "version": "3.7.9"
  }
 },
 "nbformat": 4,
 "nbformat_minor": 2
}
