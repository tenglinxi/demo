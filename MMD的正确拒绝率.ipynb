{
 "cells": [
  {
   "cell_type": "code",
   "execution_count": null,
   "metadata": {},
   "outputs": [],
   "source": [
    "import numpy as np\n",
    "from sklearn.metrics.pairwise import rbf_kernel"
   ]
  },
  {
   "cell_type": "markdown",
   "metadata": {},
   "source": [
    "# 参数"
   ]
  },
  {
   "cell_type": "code",
   "execution_count": null,
   "metadata": {},
   "outputs": [],
   "source": [
    "num = 2000\n",
    "m = num\n",
    "n = num\n",
    "\n",
    "\n",
    "ans = 0\n",
    "experiment_times = 100  #实验次数\n",
    "threshold = 0.02"
   ]
  },
  {
   "cell_type": "markdown",
   "metadata": {},
   "source": [
    "# 进行100次实验 "
   ]
  },
  {
   "cell_type": "code",
   "execution_count": null,
   "metadata": {},
   "outputs": [],
   "source": [
    "for i in range(experiment_times):\n",
    "    X = np.random.normal(loc=0,scale=1.0,size=m).reshape(-1,1)\n",
    "    Y = np.random.normal(loc=0,scale=1.0,size=n).reshape(-1,1)\n",
    "\n",
    "    MMD1 = np.sum(rbf_kernel(X,X))/(m*m)\n",
    "    MMD2 = np.sum(rbf_kernel(X,Y))/(m*n)\n",
    "    MMD3 = np.sum(rbf_kernel(Y,Y))/(n*n)\n",
    "\n",
    "    #P{拒绝H0/H0为真}=a\n",
    "    MMD = np.sqrt(MMD1 - 2*MMD2 +MMD3)\n",
    "    if MMD > threshold:\n",
    "        ans = ans +1\n",
    "        #print(\"reject the null hypothesis\")"
   ]
  },
  {
   "cell_type": "markdown",
   "metadata": {},
   "source": [
    "# MMD正确拒绝率为"
   ]
  },
  {
   "cell_type": "code",
   "execution_count": null,
   "metadata": {},
   "outputs": [],
   "source": [
    "print(\"MMD正确拒绝率为：\",ans/experiment_times)"
   ]
  }
 ],
 "metadata": {
  "kernelspec": {
   "display_name": "pytorch",
   "language": "python",
   "name": "pytorch"
  },
  "language_info": {
   "codemirror_mode": {
    "name": "ipython",
    "version": 3
   },
   "file_extension": ".py",
   "mimetype": "text/x-python",
   "name": "python",
   "nbconvert_exporter": "python",
   "pygments_lexer": "ipython3",
   "version": "3.7.9"
  }
 },
 "nbformat": 4,
 "nbformat_minor": 2
}
